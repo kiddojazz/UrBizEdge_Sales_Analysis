{
 "cells": [
  {
   "cell_type": "code",
   "execution_count": 2,
   "metadata": {},
   "outputs": [],
   "source": [
    "import pyspark\n",
    "import pandas as pd\n",
    "from pyspark.sql import SparkSession"
   ]
  },
  {
   "cell_type": "code",
   "execution_count": 3,
   "metadata": {},
   "outputs": [],
   "source": [
    "#Start spark session\n",
    "#We need to set a App Name, this might take longer if doing it for the first time.\n",
    "spark = SparkSession.builder.config(\"spark.driver.host\", \"localhost\").appName('gittest').getOrCreate()"
   ]
  },
  {
   "cell_type": "code",
   "execution_count": 4,
   "metadata": {},
   "outputs": [],
   "source": [
    "df_Sales = spark.read.csv(r\"C:\\Users\\Temidayo\\Documents\\Databricks_Project\\UrBizEdge Sales\\UrBizEdge_Sales_Analysis\\Code_Base_Folder\\Sales.csv\", header=True, inferSchema=True)\n",
    "#InferSchema endures the right datatype are in each individual columns"
   ]
  },
  {
   "cell_type": "code",
   "execution_count": 5,
   "metadata": {},
   "outputs": [
    {
     "name": "stdout",
     "output_type": "stream",
     "text": [
      "root\n",
      " |-- OrderLine: integer (nullable = true)\n",
      " |-- OrderID: string (nullable = true)\n",
      " |-- OrderDate: date (nullable = true)\n",
      " |-- ShipDate: date (nullable = true)\n",
      " |-- ShipMode: string (nullable = true)\n",
      " |-- CustomerID: string (nullable = true)\n",
      " |-- ProductID: string (nullable = true)\n",
      " |-- Sales: double (nullable = true)\n",
      " |-- Quantity: integer (nullable = true)\n",
      " |-- Discount: double (nullable = true)\n",
      " |-- Profit: double (nullable = true)\n",
      "\n"
     ]
    }
   ],
   "source": [
    "#View each columns datatypes\n",
    "df_Sales.printSchema()"
   ]
  },
  {
   "cell_type": "code",
   "execution_count": 6,
   "metadata": {},
   "outputs": [
    {
     "name": "stdout",
     "output_type": "stream",
     "text": [
      "+---------+--------------+----------+----------+--------------+----------+---------------+--------+--------+--------+--------+\n",
      "|OrderLine|       OrderID| OrderDate|  ShipDate|      ShipMode|CustomerID|      ProductID|   Sales|Quantity|Discount|  Profit|\n",
      "+---------+--------------+----------+----------+--------------+----------+---------------+--------+--------+--------+--------+\n",
      "|        1|CA-2016-152156|2016-11-08|2016-11-11|  Second Class|  CG-12520|FUR-BO-10001798|  261.96|       2|     0.0| 41.9136|\n",
      "|        2|CA-2016-152156|2016-11-08|2016-11-11|  Second Class|  CG-12520|FUR-CH-10000454|  731.94|       3|     0.0| 219.582|\n",
      "|        3|CA-2016-138688|2016-06-12|2016-06-16|  Second Class|  DV-13045|OFF-LA-10000240|   14.62|       2|     0.0|  6.8714|\n",
      "|        4|US-2015-108966|2015-10-11|2015-10-18|Standard Class|  SO-20335|FUR-TA-10000577|957.5775|       5|    0.45|-383.031|\n",
      "|        5|US-2015-108966|2015-10-11|2015-10-18|Standard Class|  SO-20335|OFF-ST-10000760|  22.368|       2|     0.2|  2.5164|\n",
      "|        6|CA-2014-115812|2014-06-09|2014-06-14|Standard Class|  BH-11710|FUR-FU-10001487|   48.86|       7|     0.0| 14.1694|\n",
      "|        7|CA-2014-115812|2014-06-09|2014-06-14|Standard Class|  BH-11710|OFF-AR-10002833|    7.28|       4|     0.0|  1.9656|\n",
      "|        8|CA-2014-115812|2014-06-09|2014-06-14|Standard Class|  BH-11710|TEC-PH-10002275| 907.152|       6|     0.2| 90.7152|\n",
      "|        9|CA-2014-115812|2014-06-09|2014-06-14|Standard Class|  BH-11710|OFF-BI-10003910|  18.504|       3|     0.2|  5.7825|\n",
      "|       10|CA-2014-115812|2014-06-09|2014-06-14|Standard Class|  BH-11710|OFF-AP-10002892|   114.9|       5|     0.0|   34.47|\n",
      "|       11|CA-2014-115812|2014-06-09|2014-06-14|Standard Class|  BH-11710|FUR-TA-10001539|1706.184|       9|     0.2| 85.3092|\n",
      "|       12|CA-2014-115812|2014-06-09|2014-06-14|Standard Class|  BH-11710|TEC-PH-10002033| 911.424|       4|     0.2| 68.3568|\n",
      "|       13|CA-2017-114412|2017-04-15|2017-04-20|Standard Class|  AA-10480|OFF-PA-10002365|  15.552|       3|     0.2|  5.4432|\n",
      "|       14|CA-2016-161389|2016-12-05|2016-12-10|Standard Class|  IM-15070|OFF-BI-10003656| 407.976|       3|     0.2|132.5922|\n",
      "|       15|US-2015-118983|2015-11-22|2015-11-26|Standard Class|  HP-14815|OFF-AP-10002311|   68.81|       5|     0.8|-123.858|\n",
      "|       16|US-2015-118983|2015-11-22|2015-11-26|Standard Class|  HP-14815|OFF-BI-10000756|   2.544|       3|     0.8|  -3.816|\n",
      "|       17|CA-2014-105893|2014-11-11|2014-11-18|Standard Class|  PK-19075|OFF-ST-10004186|  665.88|       6|     0.0| 13.3176|\n",
      "|       18|CA-2014-167164|2014-05-13|2014-05-15|  Second Class|  AG-10270|OFF-ST-10000107|    55.5|       2|     0.0|    9.99|\n",
      "|       19|CA-2014-143336|2014-08-27|2014-09-01|  Second Class|  ZD-21925|OFF-AR-10003056|    8.56|       2|     0.0|  2.4824|\n",
      "|       20|CA-2014-143336|2014-08-27|2014-09-01|  Second Class|  ZD-21925|TEC-PH-10001949|  213.48|       3|     0.2|  16.011|\n",
      "+---------+--------------+----------+----------+--------------+----------+---------------+--------+--------+--------+--------+\n",
      "only showing top 20 rows\n",
      "\n"
     ]
    }
   ],
   "source": [
    "df_Sales.show()"
   ]
  },
  {
   "cell_type": "code",
   "execution_count": 8,
   "metadata": {},
   "outputs": [],
   "source": [
    "#Creating a TempView from this\n",
    "df_Sales.createOrReplaceTempView(\"Sale_View\")"
   ]
  },
  {
   "cell_type": "code",
   "execution_count": 9,
   "metadata": {},
   "outputs": [
    {
     "name": "stdout",
     "output_type": "stream",
     "text": [
      "+---------+--------------+----------+----------+--------------+----------+---------------+--------+--------+--------+--------+\n",
      "|OrderLine|       OrderID| OrderDate|  ShipDate|      ShipMode|CustomerID|      ProductID|   Sales|Quantity|Discount|  Profit|\n",
      "+---------+--------------+----------+----------+--------------+----------+---------------+--------+--------+--------+--------+\n",
      "|        1|CA-2016-152156|2016-11-08|2016-11-11|  Second Class|  CG-12520|FUR-BO-10001798|  261.96|       2|     0.0| 41.9136|\n",
      "|        2|CA-2016-152156|2016-11-08|2016-11-11|  Second Class|  CG-12520|FUR-CH-10000454|  731.94|       3|     0.0| 219.582|\n",
      "|        3|CA-2016-138688|2016-06-12|2016-06-16|  Second Class|  DV-13045|OFF-LA-10000240|   14.62|       2|     0.0|  6.8714|\n",
      "|        4|US-2015-108966|2015-10-11|2015-10-18|Standard Class|  SO-20335|FUR-TA-10000577|957.5775|       5|    0.45|-383.031|\n",
      "|        5|US-2015-108966|2015-10-11|2015-10-18|Standard Class|  SO-20335|OFF-ST-10000760|  22.368|       2|     0.2|  2.5164|\n",
      "|        6|CA-2014-115812|2014-06-09|2014-06-14|Standard Class|  BH-11710|FUR-FU-10001487|   48.86|       7|     0.0| 14.1694|\n",
      "|        7|CA-2014-115812|2014-06-09|2014-06-14|Standard Class|  BH-11710|OFF-AR-10002833|    7.28|       4|     0.0|  1.9656|\n",
      "|        8|CA-2014-115812|2014-06-09|2014-06-14|Standard Class|  BH-11710|TEC-PH-10002275| 907.152|       6|     0.2| 90.7152|\n",
      "|        9|CA-2014-115812|2014-06-09|2014-06-14|Standard Class|  BH-11710|OFF-BI-10003910|  18.504|       3|     0.2|  5.7825|\n",
      "|       10|CA-2014-115812|2014-06-09|2014-06-14|Standard Class|  BH-11710|OFF-AP-10002892|   114.9|       5|     0.0|   34.47|\n",
      "|       11|CA-2014-115812|2014-06-09|2014-06-14|Standard Class|  BH-11710|FUR-TA-10001539|1706.184|       9|     0.2| 85.3092|\n",
      "|       12|CA-2014-115812|2014-06-09|2014-06-14|Standard Class|  BH-11710|TEC-PH-10002033| 911.424|       4|     0.2| 68.3568|\n",
      "|       13|CA-2017-114412|2017-04-15|2017-04-20|Standard Class|  AA-10480|OFF-PA-10002365|  15.552|       3|     0.2|  5.4432|\n",
      "|       14|CA-2016-161389|2016-12-05|2016-12-10|Standard Class|  IM-15070|OFF-BI-10003656| 407.976|       3|     0.2|132.5922|\n",
      "|       15|US-2015-118983|2015-11-22|2015-11-26|Standard Class|  HP-14815|OFF-AP-10002311|   68.81|       5|     0.8|-123.858|\n",
      "|       16|US-2015-118983|2015-11-22|2015-11-26|Standard Class|  HP-14815|OFF-BI-10000756|   2.544|       3|     0.8|  -3.816|\n",
      "|       17|CA-2014-105893|2014-11-11|2014-11-18|Standard Class|  PK-19075|OFF-ST-10004186|  665.88|       6|     0.0| 13.3176|\n",
      "|       18|CA-2014-167164|2014-05-13|2014-05-15|  Second Class|  AG-10270|OFF-ST-10000107|    55.5|       2|     0.0|    9.99|\n",
      "|       19|CA-2014-143336|2014-08-27|2014-09-01|  Second Class|  ZD-21925|OFF-AR-10003056|    8.56|       2|     0.0|  2.4824|\n",
      "|       20|CA-2014-143336|2014-08-27|2014-09-01|  Second Class|  ZD-21925|TEC-PH-10001949|  213.48|       3|     0.2|  16.011|\n",
      "+---------+--------------+----------+----------+--------------+----------+---------------+--------+--------+--------+--------+\n",
      "only showing top 20 rows\n",
      "\n"
     ]
    }
   ],
   "source": [
    "sql = spark.sql(\"select * from Sale_View\")\n",
    "sql.show()"
   ]
  },
  {
   "cell_type": "code",
   "execution_count": 11,
   "metadata": {},
   "outputs": [],
   "source": [
    "Aggregate = spark.sql(\"select ShipMode, sum(Profit) as total_profit from Sale_View \\\n",
    "                      group by ShipMode\")"
   ]
  },
  {
   "cell_type": "code",
   "execution_count": 12,
   "metadata": {},
   "outputs": [
    {
     "name": "stdout",
     "output_type": "stream",
     "text": [
      "+--------------+------------------+\n",
      "|      ShipMode|      total_profit|\n",
      "+--------------+------------------+\n",
      "|   First Class| 48969.83990000002|\n",
      "|      Same Day|15891.758899999984|\n",
      "|  Second Class| 57446.63539999997|\n",
      "|Standard Class| 164088.7874999997|\n",
      "+--------------+------------------+\n",
      "\n"
     ]
    }
   ],
   "source": [
    "Aggregate.show()"
   ]
  },
  {
   "cell_type": "code",
   "execution_count": null,
   "metadata": {},
   "outputs": [],
   "source": []
  }
 ],
 "metadata": {
  "kernelspec": {
   "display_name": "base",
   "language": "python",
   "name": "python3"
  },
  "language_info": {
   "codemirror_mode": {
    "name": "ipython",
    "version": 3
   },
   "file_extension": ".py",
   "mimetype": "text/x-python",
   "name": "python",
   "nbconvert_exporter": "python",
   "pygments_lexer": "ipython3",
   "version": "3.10.9"
  },
  "orig_nbformat": 4
 },
 "nbformat": 4,
 "nbformat_minor": 2
}
